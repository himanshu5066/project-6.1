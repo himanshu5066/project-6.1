{
 "cells": [
  {
   "cell_type": "code",
   "execution_count": 2,
   "id": "221464e6",
   "metadata": {},
   "outputs": [],
   "source": [
    "import pandas as pd\n",
    "import numpy as np\n",
    "import matplotlib.pyplot as plt\n",
    "import seaborn as sns\n",
    "import logging\n",
    "from datetime import datetime\n",
    "import os\n",
    "from sklearn.preprocessing import StandardScaler\n",
    "from sklearn.ensemble import RandomForestRegressor\n",
    "from sklearn.pipeline import Pipeline\n",
    "from sklearn.model_selection import train_test_split\n",
    "from sklearn.metrics import mean_absolute_error, mean_squared_error, r2_score\n",
    "import pickle\n",
    "import warnings\n",
    "warnings.filterwarnings('ignore')"
   ]
  },
  {
   "cell_type": "code",
   "execution_count": 3,
   "id": "1b950be5",
   "metadata": {},
   "outputs": [],
   "source": [
    "# Set up logging\n",
    "logging.basicConfig(\n",
    "    filename=f'sales_forecast_{datetime.now().strftime(\"%Y-%m-%d\")}.log',\n",
    "    level=logging.INFO,\n",
    "    format='%(asctime)s - %(name)s - %(levelname)s - %(message)s'\n",
    ")\n",
    "logger = logging.getLogger('sales_forecast')\n",
    "\n",
    "logger.info(\"Starting sales forecasting analysis for Rossmann Pharmaceuticals\")\n"
   ]
  },
  {
   "cell_type": "code",
   "execution_count": 4,
   "id": "4dc8906d",
   "metadata": {},
   "outputs": [],
   "source": [
    "# Load the data\n",
    "logger.info(\"Loading data files\")\n",
    "store_data = pd.read_csv('store.csv')\n",
    "train_data = pd.read_csv('train.csv')\n",
    "test_data = pd.read_csv('test.csv')\n"
   ]
  },
  {
   "cell_type": "code",
   "execution_count": 6,
   "id": "02bdee34",
   "metadata": {},
   "outputs": [
    {
     "name": "stdout",
     "output_type": "stream",
     "text": [
      "Store Data Shape: (1115, 10)\n",
      "Train Data Shape: (1017209, 9)\n",
      "Test Data Shape: (41088, 8)\n",
      "\n",
      "Store Data Preview:\n",
      "   Store StoreType Assortment  CompetitionDistance  CompetitionOpenSinceMonth  \\\n",
      "0      1         c          a               1270.0                        9.0   \n",
      "1      2         a          a                570.0                       11.0   \n",
      "2      3         a          a              14130.0                       12.0   \n",
      "3      4         c          c                620.0                        9.0   \n",
      "4      5         a          a              29910.0                        4.0   \n",
      "\n",
      "   CompetitionOpenSinceYear  Promo2  Promo2SinceWeek  Promo2SinceYear  \\\n",
      "0                    2008.0       0              NaN              NaN   \n",
      "1                    2007.0       1             13.0           2010.0   \n",
      "2                    2006.0       1             14.0           2011.0   \n",
      "3                    2009.0       0              NaN              NaN   \n",
      "4                    2015.0       0              NaN              NaN   \n",
      "\n",
      "     PromoInterval  \n",
      "0              NaN  \n",
      "1  Jan,Apr,Jul,Oct  \n",
      "2  Jan,Apr,Jul,Oct  \n",
      "3              NaN  \n",
      "4              NaN  \n",
      "\n",
      "Train Data Preview:\n",
      "   Store  DayOfWeek        Date  Sales  Customers  Open  Promo StateHoliday  \\\n",
      "0      1          5  2015-07-31   5263        555     1      1            0   \n",
      "1      2          5  2015-07-31   6064        625     1      1            0   \n",
      "2      3          5  2015-07-31   8314        821     1      1            0   \n",
      "3      4          5  2015-07-31  13995       1498     1      1            0   \n",
      "4      5          5  2015-07-31   4822        559     1      1            0   \n",
      "\n",
      "   SchoolHoliday  \n",
      "0              1  \n",
      "1              1  \n",
      "2              1  \n",
      "3              1  \n",
      "4              1  \n",
      "\n",
      "Test Data Preview:\n",
      "   Id  Store  DayOfWeek        Date  Open  Promo StateHoliday  SchoolHoliday\n",
      "0   1      1          4  2015-09-17   1.0      1            0              0\n",
      "1   2      3          4  2015-09-17   1.0      1            0              0\n",
      "2   3      7          4  2015-09-17   1.0      1            0              0\n",
      "3   4      8          4  2015-09-17   1.0      1            0              0\n",
      "4   5      9          4  2015-09-17   1.0      1            0              0\n"
     ]
    }
   ],
   "source": [
    "# Display basic information about the datasets\n",
    "logger.info(\"Displaying basic information about the datasets\")\n",
    "print(\"Store Data Shape:\", store_data.shape)\n",
    "print(\"Train Data Shape:\", train_data.shape)\n",
    "print(\"Test Data Shape:\", test_data.shape)\n",
    "# Display the first few rows of each dataset\n",
    "print(\"\\nStore Data Preview:\")\n",
    "print(store_data.head())\n",
    "\n",
    "print(\"\\nTrain Data Preview:\")\n",
    "print(train_data.head())\n",
    "\n",
    "print(\"\\nTest Data Preview:\")\n",
    "print(test_data.head())\n",
    "\n"
   ]
  },
  {
   "cell_type": "code",
   "execution_count": 7,
   "id": "753f85c7",
   "metadata": {},
   "outputs": [
    {
     "name": "stdout",
     "output_type": "stream",
     "text": [
      "\n",
      "Missing values in Store Data:\n",
      "Store                          0\n",
      "StoreType                      0\n",
      "Assortment                     0\n",
      "CompetitionDistance            3\n",
      "CompetitionOpenSinceMonth    354\n",
      "CompetitionOpenSinceYear     354\n",
      "Promo2                         0\n",
      "Promo2SinceWeek              544\n",
      "Promo2SinceYear              544\n",
      "PromoInterval                544\n",
      "dtype: int64\n",
      "\n",
      "Missing values in Train Data:\n",
      "Store            0\n",
      "DayOfWeek        0\n",
      "Date             0\n",
      "Sales            0\n",
      "Customers        0\n",
      "Open             0\n",
      "Promo            0\n",
      "StateHoliday     0\n",
      "SchoolHoliday    0\n",
      "dtype: int64\n",
      "\n",
      "Missing values in Test Data:\n",
      "Id                0\n",
      "Store             0\n",
      "DayOfWeek         0\n",
      "Date              0\n",
      "Open             11\n",
      "Promo             0\n",
      "StateHoliday      0\n",
      "SchoolHoliday     0\n",
      "dtype: int64\n"
     ]
    }
   ],
   "source": [
    "# Check for missing values\n",
    "logger.info(\"Checking for missing values\")\n",
    "print(\"\\nMissing values in Store Data:\")\n",
    "print(store_data.isnull().sum())\n",
    "\n",
    "print(\"\\nMissing values in Train Data:\")\n",
    "print(train_data.isnull().sum())\n",
    "\n",
    "print(\"\\nMissing values in Test Data:\")\n",
    "print(test_data.isnull().sum())\n"
   ]
  },
  {
   "cell_type": "code",
   "execution_count": 8,
   "id": "b4bd19f2",
   "metadata": {},
   "outputs": [],
   "source": [
    "# Data preprocessing\n",
    "logger.info(\"Starting data preprocessing\")\n"
   ]
  },
  {
   "cell_type": "code",
   "execution_count": 9,
   "id": "78d5311b",
   "metadata": {},
   "outputs": [
    {
     "name": "stdout",
     "output_type": "stream",
     "text": [
      "\n",
      "Merged Train and Store Data Shape: (1017209, 18)\n"
     ]
    }
   ],
   "source": [
    "# Merge train data with store data\n",
    "train_store = pd.merge(train_data, store_data, on='Store', how='left')\n",
    "print(\"\\nMerged Train and Store Data Shape:\", train_store.shape)\n",
    "\n",
    "# Convert Date column to datetime\n",
    "train_store['Date'] = pd.to_datetime(train_store['Date'])\n"
   ]
  },
  {
   "cell_type": "code",
   "execution_count": 10,
   "id": "3638462f",
   "metadata": {},
   "outputs": [],
   "source": [
    "# Extract date features\n",
    "logger.info(\"Extracting date features\")\n",
    "train_store['Year'] = train_store['Date'].dt.year\n",
    "train_store['Month'] = train_store['Date'].dt.month\n",
    "train_store['Day'] = train_store['Date'].dt.day\n",
    "train_store['DayOfWeek'] = train_store['Date'].dt.dayofweek\n",
    "train_store['WeekOfYear'] = train_store['Date'].dt.isocalendar().week\n"
   ]
  },
  {
   "cell_type": "code",
   "execution_count": 11,
   "id": "e6759b86",
   "metadata": {},
   "outputs": [],
   "source": [
    "# Create weekend flag\n",
    "train_store['IsWeekend'] = train_store['DayOfWeek'].apply(lambda x: 1 if x >= 5 else 0)\n",
    "\n",
    "# Create month part categories (beginning, middle, end)\n",
    "train_store['MonthPart'] = train_store['Day'].apply(\n",
    "    lambda x: 'Beginning' if x <= 10 else ('Middle' if x <= 20 else 'End')\n",
    ")"
   ]
  },
  {
   "cell_type": "code",
   "execution_count": 12,
   "id": "9a2ecf7e",
   "metadata": {},
   "outputs": [],
   "source": [
    "# EDA - Exploratory Data Analysis\n",
    "logger.info(\"Starting Exploratory Data Analysis\")\n",
    "\n",
    "# Plot sales distribution\n",
    "plt.figure(figsize=(12, 6))\n",
    "sns.histplot(train_store['Sales'], kde=True)\n",
    "plt.title('Sales Distribution')\n",
    "plt.xlabel('Sales')\n",
    "plt.ylabel('Frequency')\n",
    "plt.savefig('sales_distribution.png')\n",
    "plt.close()"
   ]
  },
  {
   "cell_type": "code",
   "execution_count": 13,
   "id": "fb9e061c",
   "metadata": {},
   "outputs": [],
   "source": [
    "# Plot average sales by day of week\n",
    "plt.figure(figsize=(10, 6))\n",
    "avg_sales_by_dow = train_store.groupby('DayOfWeek')['Sales'].mean().reset_index()\n",
    "sns.barplot(x='DayOfWeek', y='Sales', data=avg_sales_by_dow)\n",
    "plt.title('Average Sales by Day of Week')\n",
    "plt.xlabel('Day of Week (0=Monday, 6=Sunday)')\n",
    "plt.ylabel('Average Sales')\n",
    "plt.savefig('avg_sales_by_dow.png')\n",
    "plt.close()"
   ]
  },
  {
   "cell_type": "code",
   "execution_count": 14,
   "id": "04ed0beb",
   "metadata": {},
   "outputs": [],
   "source": [
    "# Correlation between sales and customers\n",
    "plt.figure(figsize=(8, 6))\n",
    "sns.scatterplot(x='Customers', y='Sales', data=train_store)\n",
    "plt.title('Correlation between Sales and Number of Customers')\n",
    "plt.xlabel('Number of Customers')\n",
    "plt.ylabel('Sales')\n",
    "plt.savefig('sales_vs_customers.png')\n",
    "plt.close()"
   ]
  },
  {
   "cell_type": "code",
   "execution_count": 15,
   "id": "64d15f06",
   "metadata": {},
   "outputs": [
    {
     "name": "stdout",
     "output_type": "stream",
     "text": [
      "\n",
      "Correlation between Sales and Customers: 0.8947\n"
     ]
    }
   ],
   "source": [
    "# Correlation coefficient\n",
    "corr = train_store['Sales'].corr(train_store['Customers'])\n",
    "print(f\"\\nCorrelation between Sales and Customers: {corr:.4f}\")\n"
   ]
  },
  {
   "cell_type": "code",
   "execution_count": 16,
   "metadata": {},
   "outputs": [],
   "source": [
    "#Effect of promotions on sales\n",
    "plt.figure(figsize=(10, 6))\n",
    "sns.boxplot(x='Promo', y='Sales', data=train_store)\n",
    "plt.title('Effect of Promotions on Sales')\n",
    "plt.xlabel('Promotion (0=No, 1=Yes)')\n",
    "plt.ylabel('Sales')\n",
    "plt.savefig('promo_effect_on_sales.png')\n",
    "plt.close()"
   ]
  },
  {
   "cell_type": "code",
   "execution_count": 17,
   "id": "7e44d7a5",
   "metadata": {},
   "outputs": [],
   "source": [
    "# Effect of store type on sales\n",
    "plt.figure(figsize=(10, 6))\n",
    "sns.boxplot(x='StoreType', y='Sales', data=train_store)\n",
    "plt.title('Sales by Store Type')\n",
    "plt.xlabel('Store Type')\n",
    "plt.ylabel('Sales')\n",
    "plt.savefig('sales_by_store_type.png')\n",
    "plt.close()\n",
    "\n",
    "# Effect of assortment on sales\n",
    "plt.figure(figsize=(10, 6))\n",
    "sns.boxplot(x='Assortment', y='Sales', data=train_store)\n",
    "plt.title('Sales by Assortment Type')\n",
    "plt.xlabel('Assortment Type')\n",
    "plt.ylabel('Sales')\n",
    "plt.savefig('sales_by_assortment.png')\n",
    "plt.close()"
   ]
  },
  {
   "cell_type": "code",
   "execution_count": 18,
   "id": "808d54d8",
   "metadata": {},
   "outputs": [],
   "source": [
    "# Sales during state holidays\n",
    "plt.figure(figsize=(10, 6))\n",
    "sns.boxplot(x='StateHoliday', y='Sales', data=train_store[train_store['StateHoliday'] != '0'])\n",
    "plt.title('Sales during Different State Holidays')\n",
    "plt.xlabel('State Holiday Type')\n",
    "plt.ylabel('Sales')\n",
    "plt.savefig('sales_during_holidays.png')\n",
    "plt.close()\n",
    "\n",
    "# Effect of competition distance on sales\n",
    "plt.figure(figsize=(12, 6))\n",
    "# Group by competition distance ranges\n",
    "train_store['CompDistRange'] = pd.cut(train_store['CompetitionDistance'], \n",
    "                                     bins=[0, 1000, 5000, 10000, 20000, 200000], \n",
    "                                     labels=['<1km', '1-5km', '5-10km', '10-20km', '>20km'])\n",
    "sns.boxplot(x='CompDistRange', y='Sales', data=train_store.dropna(subset=['CompDistRange']))\n",
    "plt.title('Effect of Competition Distance on Sales')\n",
    "plt.xlabel('Competition Distance Range')\n",
    "plt.ylabel('Sales')\n",
    "plt.savefig('competition_distance_effect.png')\n",
    "plt.close()"
   ]
  },
  {
   "cell_type": "code",
   "execution_count": 19,
   "id": "7c474875",
   "metadata": {},
   "outputs": [],
   "source": [
    "# Check sales behavior before, during, and after holidays\n",
    "# For this, we need to create features for days before and after holidays\n",
    "logger.info(\"Analyzing sales behavior around holidays\")\n",
    "\n",
    "# First, let's create a dataframe with just the holiday dates\n",
    "holiday_dates = train_store[train_store['StateHoliday'] != '0'][['Date', 'StateHoliday']].drop_duplicates()\n",
    "\n",
    "# Function to calculate days to closest holiday\n",
    "def days_to_holiday(date, holiday_dates):\n",
    "    if holiday_dates.empty:\n",
    "        return np.nan\n",
    "    days = (holiday_dates['Date'] - date).dt.days\n",
    "    future_days = days[days > 0]\n",
    "    if future_days.empty:\n",
    "        return np.nan\n",
    "    return future_days.min()"
   ]
  },
  {
   "cell_type": "code",
   "execution_count": 20,
   "id": "7d47d911",
   "metadata": {},
   "outputs": [],
   "source": [
    "# Function to calculate days since closest holiday\n",
    "def days_since_holiday(date, holiday_dates):\n",
    "    if holiday_dates.empty:\n",
    "        return np.nan\n",
    "    days = (date - holiday_dates['Date']).dt.days\n",
    "    past_days = days[days > 0]\n",
    "    if past_days.empty:\n",
    "        return np.nan\n",
    "    return past_days.min()\n"
   ]
  },
  {
   "cell_type": "code",
   "execution_count": 21,
   "id": "441f69bc",
   "metadata": {},
   "outputs": [
    {
     "name": "stdout",
     "output_type": "stream",
     "text": [
      "\n",
      "Sample of days to/since holiday calculation:\n",
      "        Date  DaysToHoliday  DaysSinceHoliday\n",
      "0 2015-01-01              5                 6\n",
      "1 2015-01-02              4                 1\n",
      "2 2015-01-03              3                 2\n",
      "3 2015-01-04              2                 3\n",
      "4 2015-01-05              1                 4\n"
     ]
    }
   ],
   "source": [
    "# This operation can be time-consuming for large datasets, so let's use a sample for demonstration\n",
    "sample_dates = pd.DataFrame({'Date': pd.date_range(start='2015-01-01', end='2015-01-31')})\n",
    "sample_dates['DaysToHoliday'] = sample_dates['Date'].apply(lambda x: days_to_holiday(x, holiday_dates))\n",
    "sample_dates['DaysSinceHoliday'] = sample_dates['Date'].apply(lambda x: days_since_holiday(x, holiday_dates))\n",
    "print(\"\\nSample of days to/since holiday calculation:\")\n",
    "print(sample_dates.head())\n",
    "\n"
   ]
  },
  {
   "cell_type": "code",
   "execution_count": 22,
   "id": "4db00044",
   "metadata": {},
   "outputs": [],
   "source": [
    "# Check how Promo2 affects sales\n",
    "plt.figure(figsize=(10, 6))\n",
    "sns.boxplot(x='Promo2', y='Sales', data=train_store)\n",
    "plt.title('Effect of Promo2 on Sales')\n",
    "plt.xlabel('Promo2 Participation (0=No, 1=Yes)')\n",
    "plt.ylabel('Sales')\n",
    "plt.savefig('promo2_effect_on_sales.png')\n",
    "plt.close()"
   ]
  },
  {
   "cell_type": "code",
   "execution_count": 23,
   "id": "78c26288",
   "metadata": {},
   "outputs": [
    {
     "name": "stdout",
     "output_type": "stream",
     "text": [
      "Error processing column StateHoliday_0: 'DataFrame' object has no attribute 'dtype'\n",
      "Error processing column StateHoliday_0: 'DataFrame' object has no attribute 'dtype'\n"
     ]
    }
   ],
   "source": [
    "# Prepare data for modeling\n",
    "logger.info(\"Preparing data for modeling\")\n",
    "\n",
    "# Let's handle missing values first\n",
    "train_store_model = train_store.copy()\n",
    "\n",
    "# Fill CompetitionDistance NAs with a large value (assuming no nearby competition)\n",
    "train_store_model['CompetitionDistance'].fillna(train_store_model['CompetitionDistance'].max() * 2, inplace=True)\n",
    "\n",
    "# Fill CompetitionOpenSince Month/Year with median values\n",
    "train_store_model['CompetitionOpenSinceMonth'].fillna(train_store_model['CompetitionOpenSinceMonth'].median(), inplace=True)\n",
    "train_store_model['CompetitionOpenSinceYear'].fillna(train_store_model['CompetitionOpenSinceYear'].median(), inplace=True)\n",
    "\n",
    "# For Promo2 related columns, fill with 0s for stores not participating\n",
    "train_store_model['Promo2SinceWeek'].fillna(0, inplace=True)\n",
    "train_store_model['Promo2SinceYear'].fillna(0, inplace=True)\n",
    "train_store_model['PromoInterval'].fillna('', inplace=True)\n",
    "# Convert categorical variables to numeric using one-hot encoding\n",
    "logger.info(\"Converting categorical variables to numeric\")\n",
    "train_store_model = pd.get_dummies(train_store_model, columns=['StoreType', 'Assortment', 'StateHoliday', 'MonthPart'])\n",
    "\n",
    "# Ensure all columns are numeric or handle categorical columns properly\n",
    "for col in train_store_model.columns:\n",
    "    try:\n",
    "        if train_store_model[col].dtype == 'object':  # Handle object columns\n",
    "            logger.warning(f\"Column {col} has non-numeric data. Attempting to convert.\")\n",
    "            # Check for non-numeric values and replace them with NaN\n",
    "            train_store_model[col] = pd.to_numeric(train_store_model[col], errors='coerce')\n",
    "        elif pd.api.types.is_categorical_dtype(train_store_model[col]):  # Handle categorical columns\n",
    "            logger.warning(f\"Column {col} is categorical. Adding '0' as a category and filling missing values.\")\n",
    "            train_store_model[col] = train_store_model[col].cat.add_categories([0]).fillna(0)\n",
    "    except ValueError as ve:\n",
    "        logger.error(f\"ValueError processing column {col}: {ve}\")\n",
    "        print(f\"ValueError processing column {col}: {ve}\")\n",
    "    except Exception as e:\n",
    "        logger.error(f\"Error processing column {col}: {e}\")\n",
    "        print(f\"Error processing column {col}: {e}\")\n",
    "        "
   ]
  },
  {
   "cell_type": "code",
   "execution_count": 24,
   "id": "bd50adcd",
   "metadata": {},
   "outputs": [],
   "source": [
    "import pandas as pd\n",
    "from sklearn.model_selection import train_test_split\n",
    "from sklearn.preprocessing import StandardScaler\n",
    "from sklearn.ensemble import RandomForestRegressor\n",
    "from sklearn.pipeline import Pipeline\n",
    "import logging\n",
    "\n",
    "logger = logging.getLogger(__name__)\n",
    "\n",
    "# Optional: map non-numeric distance values (example column)\n",
    "if 'Distance' in train_store_model.columns:\n",
    "    distance_mapping = {\n",
    "        '<1km': 0,\n",
    "        '1-2km': 1,\n",
    "        '2-5km': 2,\n",
    "        '5-10km': 3,\n",
    "        '>10km': 4\n",
    "    }\n",
    "    train_store_model['Distance'] = train_store_model['Distance'].map(distance_mapping)\n",
    "\n",
    "# One-hot encode all categorical columns\n",
    "categorical_cols = train_store_model.select_dtypes(include=['object', 'category']).columns\n",
    "train_store_model = pd.get_dummies(train_store_model, columns=categorical_cols)\n",
    "\n",
    "# Fill any remaining NaN values\n",
    "train_store_model.fillna(0, inplace=True)\n",
    "\n",
    "# Drop unnecessary columns\n",
    "train_store_model.drop(['Date', 'PromoInterval'], axis=1, inplace=True, errors='ignore')\n",
    "\n",
    "# Define features and target\n",
    "logger.info(\"Selecting features for modeling\")\n",
    "features = train_store_model.drop(['Sales', 'Customers'], axis=1)\n",
    "target = train_store_model['Sales']\n",
    "\n",
    "# Split into training and validation sets\n",
    "X_train, X_val, y_train, y_val = train_test_split(features, target, test_size=0.2, random_state=42)\n",
    "\n",
    "# Create pipeline and train model\n",
    "logger.info(\"Training Random Forest model\")\n",
    "pipeline = Pipeline([\n",
    "    ('scaler', StandardScaler()),\n",
    "    ('rf', RandomForestRegressor(n_estimators=100, random_state=42, n_jobs=-1))\n",
    "])\n",
    "\n",
    "pipeline.fit(X_train, y_train)\n",
    "\n",
    "# Predict on validation data\n",
    "y_pred = pipeline.predict(X_val)\n"
   ]
  },
  {
   "cell_type": "code",
   "execution_count": 25,
   "id": "7a55e7ad",
   "metadata": {},
   "outputs": [
    {
     "name": "stdout",
     "output_type": "stream",
     "text": [
      "\n",
      "Model Evaluation Metrics:\n",
      "Mean Absolute Error (MAE): 486.06\n",
      "Root Mean Squared Error (RMSE): 836.13\n",
      "R2 Score: 0.9527\n"
     ]
    }
   ],
   "source": [
    "# Evaluate the model\n",
    "logger.info(\"Evaluating model performance\")\n",
    "mae = mean_absolute_error(y_val, y_pred)\n",
    "rmse = np.sqrt(mean_squared_error(y_val, y_pred))\n",
    "r2 = r2_score(y_val, y_pred)\n",
    "\n",
    "print(\"\\nModel Evaluation Metrics:\")\n",
    "print(f\"Mean Absolute Error (MAE): {mae:.2f}\")\n",
    "print(f\"Root Mean Squared Error (RMSE): {rmse:.2f}\")\n",
    "print(f\"R2 Score: {r2:.4f}\")\n"
   ]
  },
  {
   "cell_type": "code",
   "execution_count": 26,
   "id": "f0018c88",
   "metadata": {},
   "outputs": [
    {
     "name": "stdout",
     "output_type": "stream",
     "text": [
      "\n",
      "Top 10 Most Important Features:\n",
      "                      Feature  Importance\n",
      "2                        Open    0.459827\n",
      "5         CompetitionDistance    0.101005\n",
      "0                       Store    0.082170\n",
      "3                       Promo    0.073461\n",
      "7    CompetitionOpenSinceYear    0.043484\n",
      "6   CompetitionOpenSinceMonth    0.037005\n",
      "1                   DayOfWeek    0.032394\n",
      "13                        Day    0.023301\n",
      "10            Promo2SinceYear    0.021833\n",
      "14                 WeekOfYear    0.021146\n"
     ]
    }
   ],
   "source": [
    "# Feature importance\n",
    "rf = pipeline.named_steps['rf']\n",
    "feature_importance = pd.DataFrame({\n",
    "    'Feature': features.columns,\n",
    "    'Importance': rf.feature_importances_\n",
    "}).sort_values('Importance', ascending=False)\n",
    "print(\"\\nTop 10 Most Important Features:\")\n",
    "print(feature_importance.head(10))\n"
   ]
  },
  {
   "cell_type": "code",
   "execution_count": 27,
   "id": "4da626f0",
   "metadata": {},
   "outputs": [],
   "source": [
    "# Plot feature importance\n",
    "plt.figure(figsize=(12, 8))\n",
    "sns.barplot(x='Importance', y='Feature', data=feature_importance.head(15))\n",
    "plt.title('Feature Importance')\n",
    "plt.tight_layout()\n",
    "plt.savefig('feature_importance.png')\n",
    "plt.close()\n"
   ]
  }
 ],
 "metadata": {
  "kernelspec": {
   "display_name": "Python 3",
   "language": "python",
   "name": "python3"
  },
  "language_info": {
   "codemirror_mode": {
    "name": "ipython",
    "version": 3
   },
   "file_extension": ".py",
   "mimetype": "text/x-python",
   "name": "python",
   "nbconvert_exporter": "python",
   "pygments_lexer": "ipython3",
   "version": "3.11.9"
  }
 },
 "nbformat": 4,
 "nbformat_minor": 5
}
